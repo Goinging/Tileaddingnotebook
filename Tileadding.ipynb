{
 "cells": [
  {
   "cell_type": "code",
   "execution_count": 57,
   "metadata": {},
   "outputs": [],
   "source": [
    "tilenumber = 6501"
   ]
  },
  {
   "cell_type": "code",
   "execution_count": 58,
   "metadata": {},
   "outputs": [],
   "source": [
    "maxar_folder_path = rf\"C:\\Users\\ianle\\Downloads\\maxar_chips\\{tilenumber}\""
   ]
  },
  {
   "cell_type": "code",
   "execution_count": 59,
   "metadata": {},
   "outputs": [],
   "source": [
    "import arcpy\n",
    "import os"
   ]
  },
  {
   "cell_type": "code",
   "execution_count": 60,
   "metadata": {},
   "outputs": [],
   "source": [
    "def add_tiff_files_to_map(folder_path):\n",
    "    # Loop through the folder and add all .tiff files to the map\n",
    "    for file_name in os.listdir(folder_path):\n",
    "        if file_name.endswith(\".tiff\") or file_name.endswith(\".tif\"):\n",
    "            tiff_path = os.path.join(folder_path, file_name)\n",
    "            # Add the raster layers to the map and zoom to layer\n",
    "            inRaster = arcpy.Raster(tiff_path)\n",
    "            layer = map_obj.addDataFromPath(inRaster)\n",
    "\n",
    "            # Get the camera and set the extent to the layer's extent\n",
    "            cam = project.activeView.camera\n",
    "            ext = arcpy.Describe(layer).extent\n",
    "            cam.setExtent(ext)\n",
    "            layer.visible = False"
   ]
  },
  {
   "cell_type": "code",
   "execution_count": 61,
   "metadata": {},
   "outputs": [],
   "source": [
    "project = arcpy.mp.ArcGISProject(\"CURRENT\")\n",
    "map_obj = project.activeMap"
   ]
  },
  {
   "cell_type": "code",
   "execution_count": 62,
   "metadata": {
    "scrolled": true
   },
   "outputs": [],
   "source": [
    "add_tiff_files_to_map(maxar_folder_path)"
   ]
  },
  {
   "cell_type": "code",
   "execution_count": 63,
   "metadata": {},
   "outputs": [
    {
     "name": "stdout",
     "output_type": "stream",
     "text": [
      "Tile Number: 6501\n"
     ]
    }
   ],
   "source": [
    "project.save()\n",
    "print(f\"Tile Number: {tilenumber}\")"
   ]
  }
 ],
 "metadata": {
  "kernelspec": {
   "display_name": "ArcGISPro",
   "language": "Python",
   "name": "python3"
  },
  "language_info": {
   "file_extension": ".py",
   "name": "python",
   "version": "3"
  }
 },
 "nbformat": 4,
 "nbformat_minor": 2
}
